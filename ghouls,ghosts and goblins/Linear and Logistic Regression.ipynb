{
 "cells": [
  {
   "cell_type": "code",
   "execution_count": 21,
   "metadata": {
    "collapsed": true
   },
   "outputs": [],
   "source": [
    "import pandas.io.gbq as bq\n",
    "import pandas as pd\n",
    "import numpy as np\n",
    "import matplotlib.pyplot as plt\n",
    "import matplotlib\n",
    "%matplotlib notebook\n",
    "import seaborn as sns\n",
    "%matplotlib inline \n",
    "import networkx as nx\n",
    "# Import the linear regression class\n",
    "from sklearn.linear_model import LinearRegression, LogisticRegression\n",
    "# Sklearn also has a helper that makes it easy to do cross validation\n",
    "from sklearn.cross_validation import KFold"
   ]
  },
  {
   "cell_type": "code",
   "execution_count": 53,
   "metadata": {
    "collapsed": true
   },
   "outputs": [],
   "source": [
    "test_df = pd.read_csv(\"train-2.csv\")"
   ]
  },
  {
   "cell_type": "code",
   "execution_count": 55,
   "metadata": {
    "collapsed": false
   },
   "outputs": [
    {
     "name": "stdout",
     "output_type": "stream",
     "text": [
      "Index([u'id', u'bone_length', u'rotting_flesh', u'hair_length', u'has_soul',\n",
      "       u'color', u'type'],\n",
      "      dtype='object')\n"
     ]
    }
   ],
   "source": [
    "print test_df.columns\n",
    "x = {'white':0,'black':1,'clear':2,'blue':3,'green':4,'blood':5}"
   ]
  },
  {
   "cell_type": "code",
   "execution_count": 60,
   "metadata": {
    "collapsed": false
   },
   "outputs": [
    {
     "name": "stdout",
     "output_type": "stream",
     "text": [
      "{0: 129, 1: 117, 2: 125}\n"
     ]
    }
   ],
   "source": [
    "test_df.loc[test_df[\"color\"]==\"white\", \"color\"] = 0\n",
    "test_df.loc[test_df[\"color\"]==\"black\", \"color\"] = 1\n",
    "test_df.loc[test_df[\"color\"]==\"clear\", \"color\"] = 2\n",
    "test_df.loc[test_df[\"color\"]==\"blue\", \"color\"] = 3\n",
    "test_df.loc[test_df[\"color\"]==\"green\", \"color\"] = 4\n",
    "test_df.loc[test_df[\"color\"]==\"blood\", \"color\"] = 5\n",
    "test_df.loc[test_df[\"type\"]==\"Ghoul\", \"type\"] = int(0)\n",
    "test_df.loc[test_df[\"type\"]==\"Ghost\", \"type\"] = int(1)\n",
    "test_df.loc[test_df[\"type\"]==\"Goblin\", \"type\"] = int(2)\n",
    "y = {}\n",
    "for i in test_df[\"type\"]:\n",
    "    y[i] = y.get(i,0) + 1\n",
    "print y"
   ]
  },
  {
   "cell_type": "code",
   "execution_count": 61,
   "metadata": {
    "collapsed": false
   },
   "outputs": [
    {
     "name": "stdout",
     "output_type": "stream",
     "text": [
      "               id  bone_length  rotting_flesh  hair_length    has_soul\n",
      "count  371.000000   371.000000     371.000000   371.000000  371.000000\n",
      "mean   443.676550     0.434160       0.506848     0.529114    0.471392\n",
      "std    263.222489     0.132833       0.146358     0.169902    0.176129\n",
      "min      0.000000     0.061032       0.095687     0.134600    0.009402\n",
      "25%    205.500000     0.340006       0.414812     0.407428    0.348002\n",
      "50%    458.000000     0.434891       0.501552     0.538642    0.466372\n",
      "75%    678.500000     0.517223       0.603977     0.647244    0.600610\n",
      "max    897.000000     0.817001       0.932466     1.000000    0.935721\n"
     ]
    },
    {
     "data": {
      "text/plain": [
       "<bound method DataFrame.head of       id  bone_length  rotting_flesh  hair_length  has_soul color type\n",
       "0      0     0.354512       0.350839     0.465761  0.781142     2    0\n",
       "1      1     0.575560       0.425868     0.531401  0.439899     4    2\n",
       "2      2     0.467875       0.354330     0.811616  0.791225     1    0\n",
       "3      4     0.776652       0.508723     0.636766  0.884464     1    0\n",
       "4      5     0.566117       0.875862     0.418594  0.636438     4    1\n",
       "5      7     0.405680       0.253277     0.441420  0.280324     4    2\n",
       "6      8     0.399331       0.568952     0.618391  0.467901     0    2\n",
       "7     11     0.516224       0.536429     0.612776  0.468048     2    0\n",
       "8     12     0.314295       0.671280     0.417267  0.227548     3    1\n",
       "9     19     0.280942       0.701457     0.179633  0.141183     0    1\n",
       "10    22     0.431685       0.438959     0.239212  0.471820     2    2\n",
       "11    23     0.584543       0.593082     0.681166  0.935721     2    0\n",
       "12    25     0.390712       0.335069     0.556109  0.784217     0    0\n",
       "13    27     0.351559       0.471078     0.484458  0.465328     1    2\n",
       "14    28     0.513387       0.301345     0.745676  0.545792     2    2\n",
       "15    29     0.500197       0.438418     0.532530  0.665522     2    0\n",
       "16    30     0.250770       0.246258     0.554654  0.250036     1    1\n",
       "17    31     0.585559       0.585939     1.000000  0.708692     1    0\n",
       "18    32     0.605836       0.587943     0.529361  0.526718     3    0\n",
       "19    34     0.524080       0.750988     0.524637  0.443358     4    1\n",
       "20    35     0.503164       0.464055     0.497783  0.472031     2    2\n",
       "21    36     0.472603       0.427151     0.590130  0.356488     0    0\n",
       "22    37     0.374449       0.384183     0.675868  0.414700     2    2\n",
       "23    39     0.343350       0.397450     0.478876  0.621823     0    0\n",
       "24    45     0.687256       0.301576     0.761949  0.513779     2    0\n",
       "25    47     0.229010       0.567313     0.373743  0.329636     0    1\n",
       "26    54     0.388501       0.342306     0.669627  0.538649     2    2\n",
       "27    56     0.492438       0.623197     0.604879  0.376142     4    2\n",
       "28    58     0.411663       0.454075     0.408097  0.432921     0    2\n",
       "29    62     0.304198       0.266904     0.527225  0.386713     2    2\n",
       "..   ...          ...            ...          ...       ...   ...  ...\n",
       "341  819     0.323805       0.505963     0.496038  0.659684     0    2\n",
       "342  820     0.626615       0.389805     0.620758  0.712549     0    0\n",
       "343  827     0.624388       0.661235     0.574458  0.642300     3    2\n",
       "344  829     0.165196       0.716798     0.468755  0.253624     2    1\n",
       "345  831     0.712913       0.531892     0.756465  0.453634     2    0\n",
       "346  836     0.346283       0.158742     0.714987  0.322676     0    2\n",
       "347  837     0.332374       0.605206     0.299235  0.570073     1    1\n",
       "348  839     0.355313       0.344684     0.555728  0.638232     5    2\n",
       "349  840     0.502599       0.604174     0.617955  0.593545     2    0\n",
       "350  841     0.203073       0.165539     0.299507  0.425802     2    1\n",
       "351  843     0.552971       0.341187     0.644801  0.415394     0    2\n",
       "352  845     0.496140       0.377488     0.647238  0.465689     4    0\n",
       "353  846     0.362567       0.639753     0.536248  0.427678     0    2\n",
       "354  847     0.356999       0.671331     0.296784  0.689980     1    1\n",
       "355  849     0.440133       0.391157     0.571983  0.431373     2    2\n",
       "356  851     0.445547       0.241139     0.558614  0.399302     4    2\n",
       "357  855     0.434891       0.667160     0.798618  0.460061     4    0\n",
       "358  858     0.440432       0.309498     0.203057  0.194105     2    1\n",
       "359  861     0.626017       0.172182     0.408422  0.644941     3    0\n",
       "360  864     0.467785       0.420135     0.631894  0.386509     2    0\n",
       "361  867     0.501022       0.584847     0.656230  0.469886     2    0\n",
       "362  873     0.377449       0.466158     0.497351  0.393305     2    2\n",
       "363  874     0.507583       0.799623     0.334520  0.344403     0    1\n",
       "364  877     0.486744       0.462666     0.840013  0.353383     2    2\n",
       "365  878     0.406062       0.449944     0.788983  0.428553     0    0\n",
       "366  886     0.458132       0.391760     0.660590  0.635689     3    2\n",
       "367  889     0.331936       0.564836     0.539216  0.551471     4    1\n",
       "368  890     0.481640       0.501147     0.496446  0.544003     2    0\n",
       "369  896     0.294943       0.771286     0.583503  0.300618     2    1\n",
       "370  897     0.670200       0.768469     0.737274  0.608384     0    0\n",
       "\n",
       "[371 rows x 7 columns]>"
      ]
     },
     "execution_count": 61,
     "metadata": {},
     "output_type": "execute_result"
    }
   ],
   "source": [
    "print test_df.describe()\n",
    "test_df.head"
   ]
  },
  {
   "cell_type": "code",
   "execution_count": 62,
   "metadata": {
    "collapsed": false
   },
   "outputs": [],
   "source": [
    "predictors = [\"bone_length\", \"rotting_flesh\", \"hair_length\", \"has_soul\"]\n",
    "# for i in predictors:\n",
    "#     test_df[i] = test_df[i]*100\n",
    "a = test_df.loc[:,predictors]\n",
    "b = test_df[\"type\"].values.astype(int)"
   ]
  },
  {
   "cell_type": "code",
   "execution_count": 63,
   "metadata": {
    "collapsed": false
   },
   "outputs": [
    {
     "data": {
      "text/plain": [
       "LogisticRegression(C=1.0, class_weight=None, dual=False, fit_intercept=True,\n",
       "          intercept_scaling=1, max_iter=100, multi_class='ovr', n_jobs=1,\n",
       "          penalty='l2', random_state=None, solver='liblinear', tol=0.0001,\n",
       "          verbose=0, warm_start=False)"
      ]
     },
     "execution_count": 63,
     "metadata": {},
     "output_type": "execute_result"
    }
   ],
   "source": [
    "alg = LogisticRegression()\n",
    "# alg.fit(test_df[predictors].values,test_df[\"type\"].values)\n",
    "alg.fit(a,b)"
   ]
  },
  {
   "cell_type": "code",
   "execution_count": 64,
   "metadata": {
    "collapsed": true
   },
   "outputs": [],
   "source": [
    "test_df2 = pd.read_csv(\"test-2.csv\")"
   ]
  },
  {
   "cell_type": "code",
   "execution_count": 46,
   "metadata": {
    "collapsed": false
   },
   "outputs": [],
   "source": [
    "test_df2.loc[test_df2[\"color\"]==\"white\", \"color\"] = 0\n",
    "test_df2.loc[test_df2[\"color\"]==\"black\", \"color\"] = 1\n",
    "test_df2.loc[test_df2[\"color\"]==\"clear\", \"color\"] = 2\n",
    "test_df2.loc[test_df2[\"color\"]==\"blue\", \"color\"] = 3\n",
    "test_df2.loc[test_df2[\"color\"]==\"green\", \"color\"] = 4\n",
    "test_df2.loc[test_df2[\"color\"]==\"blood\", \"color\"] = 5"
   ]
  },
  {
   "cell_type": "code",
   "execution_count": 65,
   "metadata": {
    "collapsed": false
   },
   "outputs": [],
   "source": [
    "predictions = alg.predict(test_df2[predictors])\n",
    "x = {}"
   ]
  },
  {
   "cell_type": "code",
   "execution_count": 66,
   "metadata": {
    "collapsed": false
   },
   "outputs": [
    {
     "name": "stdout",
     "output_type": "stream",
     "text": [
      "{0: 1, 1: 1, 2: 1}\n"
     ]
    }
   ],
   "source": [
    "for i in predictions:\n",
    "    x[i]=1\n",
    "print x"
   ]
  },
  {
   "cell_type": "code",
   "execution_count": 12,
   "metadata": {
    "collapsed": false
   },
   "outputs": [
    {
     "data": {
      "text/plain": [
       "-0.1850762112151183"
      ]
     },
     "execution_count": 12,
     "metadata": {},
     "output_type": "execute_result"
    }
   ],
   "source": [
    "min(predictions)"
   ]
  },
  {
   "cell_type": "code",
   "execution_count": 47,
   "metadata": {
    "collapsed": false
   },
   "outputs": [],
   "source": [
    "out = []\n",
    "for i in predictions:\n",
    "    if i < 0.66:\n",
    "        out.append(\"Ghoul\")\n",
    "    elif i < 1.33:\n",
    "        out.append(\"Ghost\")\n",
    "    else:\n",
    "        out.append(\"Goblin\")"
   ]
  },
  {
   "cell_type": "code",
   "execution_count": 67,
   "metadata": {
    "collapsed": false
   },
   "outputs": [],
   "source": [
    "submission = pd.DataFrame({\n",
    "        \"id\": test_df2[\"id\"],\n",
    "        \"type\": predictions\n",
    "    })\n",
    "\n",
    "submission.to_csv(\"kaggle.csv\", index=False)"
   ]
  },
  {
   "cell_type": "code",
   "execution_count": 49,
   "metadata": {
    "collapsed": true
   },
   "outputs": [],
   "source": [
    "from sklearn.ensemble import RandomForestClassifier"
   ]
  },
  {
   "cell_type": "code",
   "execution_count": 59,
   "metadata": {
    "collapsed": true
   },
   "outputs": [],
   "source": [
    "alg = RandomForestClassifier(random_state=1, n_estimators=10, min_samples_split=2, min_samples_leaf=1)"
   ]
  },
  {
   "cell_type": "code",
   "execution_count": 60,
   "metadata": {
    "collapsed": false
   },
   "outputs": [
    {
     "ename": "ValueError",
     "evalue": "Unknown label type: array([[0],\n       [2],\n       [0],\n       [0],\n       [1],\n       [2],\n       [2],\n       [0],\n       [1],\n       [1],\n       [2],\n       [0],\n       [0],\n       [2],\n       [2],\n       [0],\n       [1],\n       [0],\n       [0],\n       [1],\n       [2],\n       [0],\n       [2],\n       [0],\n       [0],\n       [1],\n       [2],\n       [2],\n       [2],\n       [2],\n       [0],\n       [1],\n       [2],\n       [2],\n       [0],\n       [1],\n       [1],\n       [0],\n       [0],\n       [1],\n       [0],\n       [1],\n       [1],\n       [2],\n       [0],\n       [2],\n       [0],\n       [1],\n       [2],\n       [2],\n       [0],\n       [0],\n       [1],\n       [2],\n       [1],\n       [2],\n       [1],\n       [2],\n       [1],\n       [0],\n       [2],\n       [2],\n       [0],\n       [2],\n       [0],\n       [1],\n       [1],\n       [0],\n       [1],\n       [0],\n       [0],\n       [1],\n       [1],\n       [0],\n       [0],\n       [2],\n       [2],\n       [1],\n       [0],\n       [0],\n       [1],\n       [1],\n       [1],\n       [2],\n       [1],\n       [2],\n       [0],\n       [2],\n       [0],\n       [0],\n       [1],\n       [0],\n       [2],\n       [0],\n       [2],\n       [2],\n       [1],\n       [2],\n       [2],\n       [1],\n       [1],\n       [1],\n       [1],\n       [2],\n       [2],\n       [1],\n       [0],\n       [2],\n       [2],\n       [0],\n       [1],\n       [2],\n       [0],\n       [1],\n       [2],\n       [1],\n       [1],\n       [2],\n       [1],\n       [0],\n       [2],\n       [2],\n       [1],\n       [2],\n       [0],\n       [1],\n       [1],\n       [2],\n       [0],\n       [0],\n       [0],\n       [0],\n       [0],\n       [2],\n       [2],\n       [0],\n       [2],\n       [2],\n       [2],\n       [0],\n       [2],\n       [2],\n       [1],\n       [2],\n       [0],\n       [1],\n       [1],\n       [2],\n       [2],\n       [2],\n       [1],\n       [1],\n       [1],\n       [0],\n       [1],\n       [0],\n       [2],\n       [2],\n       [1],\n       [1],\n       [1],\n       [2],\n       [2],\n       [0],\n       [2],\n       [2],\n       [0],\n       [2],\n       [1],\n       [1],\n       [2],\n       [1],\n       [2],\n       [1],\n       [1],\n       [1],\n       [0],\n       [1],\n       [2],\n       [0],\n       [1],\n       [1],\n       [0],\n       [1],\n       [2],\n       [2],\n       [1],\n       [1],\n       [1],\n       [0],\n       [0],\n       [2],\n       [0],\n       [1],\n       [2],\n       [0],\n       [0],\n       [2],\n       [1],\n       [1],\n       [0],\n       [0],\n       [0],\n       [2],\n       [1],\n       [1],\n       [0],\n       [2],\n       [2],\n       [2],\n       [2],\n       [0],\n       [2],\n       [1],\n       [2],\n       [0],\n       [0],\n       [1],\n       [1],\n       [0],\n       [1],\n       [2],\n       [2],\n       [0],\n       [2],\n       [0],\n       [0],\n       [2],\n       [1],\n       [0],\n       [0],\n       [2],\n       [0],\n       [0],\n       [2],\n       [2],\n       [2],\n       [0],\n       [0],\n       [2],\n       [0],\n       [0],\n       [1],\n       [1],\n       [1],\n       [1],\n       [1],\n       [1],\n       [0],\n       [0],\n       [2],\n       [1],\n       [0],\n       [2],\n       [1],\n       [1],\n       [0],\n       [1],\n       [0],\n       [2],\n       [1],\n       [1],\n       [2],\n       [1],\n       [2],\n       [2],\n       [1],\n       [1],\n       [2],\n       [2],\n       [2],\n       [1],\n       [1],\n       [0],\n       [0],\n       [2],\n       [1],\n       [1],\n       [2],\n       [0],\n       [2],\n       [0],\n       [0],\n       [1],\n       [0],\n       [1],\n       [2],\n       [0],\n       [0],\n       [0],\n       [1],\n       [0],\n       [0],\n       [1],\n       [0],\n       [0],\n       [2],\n       [1],\n       [2],\n       [1],\n       [1],\n       [2],\n       [1],\n       [0],\n       [0],\n       [0],\n       [0],\n       [0],\n       [0],\n       [2],\n       [0],\n       [2],\n       [0],\n       [2],\n       [2],\n       [2],\n       [0],\n       [2],\n       [0],\n       [0],\n       [2],\n       [1],\n       [1],\n       [2],\n       [0],\n       [0],\n       [0],\n       [0],\n       [1],\n       [0],\n       [0],\n       [1],\n       [2],\n       [1],\n       [2],\n       [1],\n       [1],\n       [0],\n       [0],\n       [0],\n       [2],\n       [2],\n       [0],\n       [2],\n       [1],\n       [0],\n       [2],\n       [1],\n       [2],\n       [0],\n       [1],\n       [2],\n       [0],\n       [2],\n       [1],\n       [2],\n       [2],\n       [0],\n       [1],\n       [0],\n       [0],\n       [0],\n       [2],\n       [1],\n       [2],\n       [0],\n       [2],\n       [1],\n       [0],\n       [1],\n       [0]], dtype=object)",
     "output_type": "error",
     "traceback": [
      "\u001b[0;31m---------------------------------------------------------------------------\u001b[0m",
      "\u001b[0;31mValueError\u001b[0m                                Traceback (most recent call last)",
      "\u001b[0;32m<ipython-input-60-24270df40dbe>\u001b[0m in \u001b[0;36m<module>\u001b[0;34m()\u001b[0m\n\u001b[0;32m----> 1\u001b[0;31m \u001b[0malg\u001b[0m\u001b[0;34m.\u001b[0m\u001b[0mfit\u001b[0m\u001b[0;34m(\u001b[0m\u001b[0mtest_df\u001b[0m\u001b[0;34m[\u001b[0m\u001b[0mpredictors\u001b[0m\u001b[0;34m]\u001b[0m\u001b[0;34m,\u001b[0m\u001b[0mtest_df\u001b[0m\u001b[0;34m[\u001b[0m\u001b[0;34m\"type\"\u001b[0m\u001b[0;34m]\u001b[0m\u001b[0;34m)\u001b[0m\u001b[0;34m\u001b[0m\u001b[0m\n\u001b[0m\u001b[1;32m      2\u001b[0m \u001b[0;31m# predictions = alg.predict(test_df2[predictors])\u001b[0m\u001b[0;34m\u001b[0m\u001b[0;34m\u001b[0m\u001b[0m\n",
      "\u001b[0;32m/usr/local/lib/python2.7/site-packages/sklearn/ensemble/forest.pyc\u001b[0m in \u001b[0;36mfit\u001b[0;34m(self, X, y, sample_weight)\u001b[0m\n\u001b[1;32m    233\u001b[0m         \u001b[0mself\u001b[0m\u001b[0;34m.\u001b[0m\u001b[0mn_outputs_\u001b[0m \u001b[0;34m=\u001b[0m \u001b[0my\u001b[0m\u001b[0;34m.\u001b[0m\u001b[0mshape\u001b[0m\u001b[0;34m[\u001b[0m\u001b[0;36m1\u001b[0m\u001b[0;34m]\u001b[0m\u001b[0;34m\u001b[0m\u001b[0m\n\u001b[1;32m    234\u001b[0m \u001b[0;34m\u001b[0m\u001b[0m\n\u001b[0;32m--> 235\u001b[0;31m         \u001b[0my\u001b[0m\u001b[0;34m,\u001b[0m \u001b[0mexpanded_class_weight\u001b[0m \u001b[0;34m=\u001b[0m \u001b[0mself\u001b[0m\u001b[0;34m.\u001b[0m\u001b[0m_validate_y_class_weight\u001b[0m\u001b[0;34m(\u001b[0m\u001b[0my\u001b[0m\u001b[0;34m)\u001b[0m\u001b[0;34m\u001b[0m\u001b[0m\n\u001b[0m\u001b[1;32m    236\u001b[0m \u001b[0;34m\u001b[0m\u001b[0m\n\u001b[1;32m    237\u001b[0m         \u001b[0;32mif\u001b[0m \u001b[0mgetattr\u001b[0m\u001b[0;34m(\u001b[0m\u001b[0my\u001b[0m\u001b[0;34m,\u001b[0m \u001b[0;34m\"dtype\"\u001b[0m\u001b[0;34m,\u001b[0m \u001b[0mNone\u001b[0m\u001b[0;34m)\u001b[0m \u001b[0;34m!=\u001b[0m \u001b[0mDOUBLE\u001b[0m \u001b[0;32mor\u001b[0m \u001b[0;32mnot\u001b[0m \u001b[0my\u001b[0m\u001b[0;34m.\u001b[0m\u001b[0mflags\u001b[0m\u001b[0;34m.\u001b[0m\u001b[0mcontiguous\u001b[0m\u001b[0;34m:\u001b[0m\u001b[0;34m\u001b[0m\u001b[0m\n",
      "\u001b[0;32m/usr/local/lib/python2.7/site-packages/sklearn/ensemble/forest.pyc\u001b[0m in \u001b[0;36m_validate_y_class_weight\u001b[0;34m(self, y)\u001b[0m\n\u001b[1;32m    419\u001b[0m \u001b[0;34m\u001b[0m\u001b[0m\n\u001b[1;32m    420\u001b[0m     \u001b[0;32mdef\u001b[0m \u001b[0m_validate_y_class_weight\u001b[0m\u001b[0;34m(\u001b[0m\u001b[0mself\u001b[0m\u001b[0;34m,\u001b[0m \u001b[0my\u001b[0m\u001b[0;34m)\u001b[0m\u001b[0;34m:\u001b[0m\u001b[0;34m\u001b[0m\u001b[0m\n\u001b[0;32m--> 421\u001b[0;31m         \u001b[0mcheck_classification_targets\u001b[0m\u001b[0;34m(\u001b[0m\u001b[0my\u001b[0m\u001b[0;34m)\u001b[0m\u001b[0;34m\u001b[0m\u001b[0m\n\u001b[0m\u001b[1;32m    422\u001b[0m \u001b[0;34m\u001b[0m\u001b[0m\n\u001b[1;32m    423\u001b[0m         \u001b[0my\u001b[0m \u001b[0;34m=\u001b[0m \u001b[0mnp\u001b[0m\u001b[0;34m.\u001b[0m\u001b[0mcopy\u001b[0m\u001b[0;34m(\u001b[0m\u001b[0my\u001b[0m\u001b[0;34m)\u001b[0m\u001b[0;34m\u001b[0m\u001b[0m\n",
      "\u001b[0;32m/usr/local/lib/python2.7/site-packages/sklearn/utils/multiclass.pyc\u001b[0m in \u001b[0;36mcheck_classification_targets\u001b[0;34m(y)\u001b[0m\n\u001b[1;32m    171\u001b[0m     if y_type not in ['binary', 'multiclass', 'multiclass-multioutput', \n\u001b[1;32m    172\u001b[0m             'multilabel-indicator', 'multilabel-sequences']:\n\u001b[0;32m--> 173\u001b[0;31m         \u001b[0;32mraise\u001b[0m \u001b[0mValueError\u001b[0m\u001b[0;34m(\u001b[0m\u001b[0;34m\"Unknown label type: %r\"\u001b[0m \u001b[0;34m%\u001b[0m \u001b[0my\u001b[0m\u001b[0;34m)\u001b[0m\u001b[0;34m\u001b[0m\u001b[0m\n\u001b[0m\u001b[1;32m    174\u001b[0m \u001b[0;34m\u001b[0m\u001b[0m\n\u001b[1;32m    175\u001b[0m \u001b[0;34m\u001b[0m\u001b[0m\n",
      "\u001b[0;31mValueError\u001b[0m: Unknown label type: array([[0],\n       [2],\n       [0],\n       [0],\n       [1],\n       [2],\n       [2],\n       [0],\n       [1],\n       [1],\n       [2],\n       [0],\n       [0],\n       [2],\n       [2],\n       [0],\n       [1],\n       [0],\n       [0],\n       [1],\n       [2],\n       [0],\n       [2],\n       [0],\n       [0],\n       [1],\n       [2],\n       [2],\n       [2],\n       [2],\n       [0],\n       [1],\n       [2],\n       [2],\n       [0],\n       [1],\n       [1],\n       [0],\n       [0],\n       [1],\n       [0],\n       [1],\n       [1],\n       [2],\n       [0],\n       [2],\n       [0],\n       [1],\n       [2],\n       [2],\n       [0],\n       [0],\n       [1],\n       [2],\n       [1],\n       [2],\n       [1],\n       [2],\n       [1],\n       [0],\n       [2],\n       [2],\n       [0],\n       [2],\n       [0],\n       [1],\n       [1],\n       [0],\n       [1],\n       [0],\n       [0],\n       [1],\n       [1],\n       [0],\n       [0],\n       [2],\n       [2],\n       [1],\n       [0],\n       [0],\n       [1],\n       [1],\n       [1],\n       [2],\n       [1],\n       [2],\n       [0],\n       [2],\n       [0],\n       [0],\n       [1],\n       [0],\n       [2],\n       [0],\n       [2],\n       [2],\n       [1],\n       [2],\n       [2],\n       [1],\n       [1],\n       [1],\n       [1],\n       [2],\n       [2],\n       [1],\n       [0],\n       [2],\n       [2],\n       [0],\n       [1],\n       [2],\n       [0],\n       [1],\n       [2],\n       [1],\n       [1],\n       [2],\n       [1],\n       [0],\n       [2],\n       [2],\n       [1],\n       [2],\n       [0],\n       [1],\n       [1],\n       [2],\n       [0],\n       [0],\n       [0],\n       [0],\n       [0],\n       [2],\n       [2],\n       [0],\n       [2],\n       [2],\n       [2],\n       [0],\n       [2],\n       [2],\n       [1],\n       [2],\n       [0],\n       [1],\n       [1],\n       [2],\n       [2],\n       [2],\n       [1],\n       [1],\n       [1],\n       [0],\n       [1],\n       [0],\n       [2],\n       [2],\n       [1],\n       [1],\n       [1],\n       [2],\n       [2],\n       [0],\n       [2],\n       [2],\n       [0],\n       [2],\n       [1],\n       [1],\n       [2],\n       [1],\n       [2],\n       [1],\n       [1],\n       [1],\n       [0],\n       [1],\n       [2],\n       [0],\n       [1],\n       [1],\n       [0],\n       [1],\n       [2],\n       [2],\n       [1],\n       [1],\n       [1],\n       [0],\n       [0],\n       [2],\n       [0],\n       [1],\n       [2],\n       [0],\n       [0],\n       [2],\n       [1],\n       [1],\n       [0],\n       [0],\n       [0],\n       [2],\n       [1],\n       [1],\n       [0],\n       [2],\n       [2],\n       [2],\n       [2],\n       [0],\n       [2],\n       [1],\n       [2],\n       [0],\n       [0],\n       [1],\n       [1],\n       [0],\n       [1],\n       [2],\n       [2],\n       [0],\n       [2],\n       [0],\n       [0],\n       [2],\n       [1],\n       [0],\n       [0],\n       [2],\n       [0],\n       [0],\n       [2],\n       [2],\n       [2],\n       [0],\n       [0],\n       [2],\n       [0],\n       [0],\n       [1],\n       [1],\n       [1],\n       [1],\n       [1],\n       [1],\n       [0],\n       [0],\n       [2],\n       [1],\n       [0],\n       [2],\n       [1],\n       [1],\n       [0],\n       [1],\n       [0],\n       [2],\n       [1],\n       [1],\n       [2],\n       [1],\n       [2],\n       [2],\n       [1],\n       [1],\n       [2],\n       [2],\n       [2],\n       [1],\n       [1],\n       [0],\n       [0],\n       [2],\n       [1],\n       [1],\n       [2],\n       [0],\n       [2],\n       [0],\n       [0],\n       [1],\n       [0],\n       [1],\n       [2],\n       [0],\n       [0],\n       [0],\n       [1],\n       [0],\n       [0],\n       [1],\n       [0],\n       [0],\n       [2],\n       [1],\n       [2],\n       [1],\n       [1],\n       [2],\n       [1],\n       [0],\n       [0],\n       [0],\n       [0],\n       [0],\n       [0],\n       [2],\n       [0],\n       [2],\n       [0],\n       [2],\n       [2],\n       [2],\n       [0],\n       [2],\n       [0],\n       [0],\n       [2],\n       [1],\n       [1],\n       [2],\n       [0],\n       [0],\n       [0],\n       [0],\n       [1],\n       [0],\n       [0],\n       [1],\n       [2],\n       [1],\n       [2],\n       [1],\n       [1],\n       [0],\n       [0],\n       [0],\n       [2],\n       [2],\n       [0],\n       [2],\n       [1],\n       [0],\n       [2],\n       [1],\n       [2],\n       [0],\n       [1],\n       [2],\n       [0],\n       [2],\n       [1],\n       [2],\n       [2],\n       [0],\n       [1],\n       [0],\n       [0],\n       [0],\n       [2],\n       [1],\n       [2],\n       [0],\n       [2],\n       [1],\n       [0],\n       [1],\n       [0]], dtype=object)"
     ]
    }
   ],
   "source": [
    "alg.fit(test_df[predictors],test_df[\"type\"])\n",
    "# predictions = alg.predict(test_df2[predictors])"
   ]
  },
  {
   "cell_type": "code",
   "execution_count": null,
   "metadata": {
    "collapsed": true
   },
   "outputs": [],
   "source": []
  }
 ],
 "metadata": {
  "kernelspec": {
   "display_name": "Python 2",
   "language": "python",
   "name": "python2"
  },
  "language_info": {
   "codemirror_mode": {
    "name": "ipython",
    "version": 2
   },
   "file_extension": ".py",
   "mimetype": "text/x-python",
   "name": "python",
   "nbconvert_exporter": "python",
   "pygments_lexer": "ipython2",
   "version": "2.7.12"
  }
 },
 "nbformat": 4,
 "nbformat_minor": 0
}
