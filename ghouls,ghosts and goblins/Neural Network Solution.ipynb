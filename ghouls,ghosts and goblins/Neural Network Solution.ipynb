{
 "cells": [
  {
   "cell_type": "code",
   "execution_count": 4,
   "metadata": {
    "collapsed": false
   },
   "outputs": [
    {
     "data": {
      "text/html": [
       "<div>\n",
       "<table border=\"1\" class=\"dataframe\">\n",
       "  <thead>\n",
       "    <tr style=\"text-align: right;\">\n",
       "      <th></th>\n",
       "      <th>bone_length</th>\n",
       "      <th>rotting_flesh</th>\n",
       "      <th>hair_length</th>\n",
       "      <th>has_soul</th>\n",
       "      <th>color</th>\n",
       "      <th>type</th>\n",
       "    </tr>\n",
       "    <tr>\n",
       "      <th>id</th>\n",
       "      <th></th>\n",
       "      <th></th>\n",
       "      <th></th>\n",
       "      <th></th>\n",
       "      <th></th>\n",
       "      <th></th>\n",
       "    </tr>\n",
       "  </thead>\n",
       "  <tbody>\n",
       "    <tr>\n",
       "      <th>0</th>\n",
       "      <td>0.354512</td>\n",
       "      <td>0.350839</td>\n",
       "      <td>0.465761</td>\n",
       "      <td>0.781142</td>\n",
       "      <td>clear</td>\n",
       "      <td>Ghoul</td>\n",
       "    </tr>\n",
       "    <tr>\n",
       "      <th>1</th>\n",
       "      <td>0.575560</td>\n",
       "      <td>0.425868</td>\n",
       "      <td>0.531401</td>\n",
       "      <td>0.439899</td>\n",
       "      <td>green</td>\n",
       "      <td>Goblin</td>\n",
       "    </tr>\n",
       "    <tr>\n",
       "      <th>2</th>\n",
       "      <td>0.467875</td>\n",
       "      <td>0.354330</td>\n",
       "      <td>0.811616</td>\n",
       "      <td>0.791225</td>\n",
       "      <td>black</td>\n",
       "      <td>Ghoul</td>\n",
       "    </tr>\n",
       "    <tr>\n",
       "      <th>4</th>\n",
       "      <td>0.776652</td>\n",
       "      <td>0.508723</td>\n",
       "      <td>0.636766</td>\n",
       "      <td>0.884464</td>\n",
       "      <td>black</td>\n",
       "      <td>Ghoul</td>\n",
       "    </tr>\n",
       "    <tr>\n",
       "      <th>5</th>\n",
       "      <td>0.566117</td>\n",
       "      <td>0.875862</td>\n",
       "      <td>0.418594</td>\n",
       "      <td>0.636438</td>\n",
       "      <td>green</td>\n",
       "      <td>Ghost</td>\n",
       "    </tr>\n",
       "  </tbody>\n",
       "</table>\n",
       "</div>"
      ],
      "text/plain": [
       "    bone_length  rotting_flesh  hair_length  has_soul  color    type\n",
       "id                                                                  \n",
       "0      0.354512       0.350839     0.465761  0.781142  clear   Ghoul\n",
       "1      0.575560       0.425868     0.531401  0.439899  green  Goblin\n",
       "2      0.467875       0.354330     0.811616  0.791225  black   Ghoul\n",
       "4      0.776652       0.508723     0.636766  0.884464  black   Ghoul\n",
       "5      0.566117       0.875862     0.418594  0.636438  green   Ghost"
      ]
     },
     "execution_count": 4,
     "metadata": {},
     "output_type": "execute_result"
    }
   ],
   "source": [
    "import numpy as np\n",
    "import pandas as pd\n",
    "train = pd.read_csv(\"train-2.csv\", index_col=0)\n",
    "test = pd.read_csv(\"test-2.csv\", index_col=0)\n",
    "train.head()"
   ]
  },
  {
   "cell_type": "code",
   "execution_count": 5,
   "metadata": {
    "collapsed": false
   },
   "outputs": [],
   "source": [
    "y_train = pd.get_dummies(train[[\"type\"]], prefix=\"\")\n",
    "train.drop(\"type\", inplace=True, axis=1)\n",
    "\n",
    "train_test = pd.concat([train, test], axis=0)\n",
    "\n",
    "# It looks like the color actually is just noise, and does not give any signal to the monster-class.\n",
    "# Comment one of these lines.\n",
    "#train_test = pd.get_dummies( train_test, columns=[\"color\"], drop_first=False)\n",
    "train_test.drop(\"color\", inplace=True, axis=1)\n",
    "\n",
    "X_train = train_test.iloc[:len(y_train)]\n",
    "X_test  = train_test.iloc[len(y_train):]\n",
    "\n",
    "# Clean up\n",
    "del train_test\n",
    "del train\n",
    "del test"
   ]
  },
  {
   "cell_type": "code",
   "execution_count": 6,
   "metadata": {
    "collapsed": true
   },
   "outputs": [],
   "source": [
    "def sigmoid(X):\n",
    "    return 1.0 / ( 1.0 + np.exp(-X) )\n",
    "\n",
    "def softmax(X):\n",
    "    _sum = np.exp(X).sum()\n",
    "    return np.exp(X) / _sum\n",
    "\n",
    "class neuralnet(object):\n",
    "    def __init__(self, num_input, num_hidden, num_output):\n",
    "        self._W1 = (np.random.random_sample((num_input, num_hidden)) - 0.5).astype(np.float32)\n",
    "        self._b1 = np.zeros((1, num_hidden)).astype(np.float32)\n",
    "        self._W2 = (np.random.random_sample((num_hidden, num_output)) - 0.5).astype(np.float32)\n",
    "        self._b2 = np.zeros((1, num_output)).astype(np.float32)\n",
    "\n",
    "    def forward(self,X):\n",
    "        net1 = np.matmul( X, self._W1 ) + self._b1\n",
    "        y = sigmoid(net1)\n",
    "        net2 = np.matmul( y, self._W2 ) + self._b2\n",
    "        z = softmax(net2)\n",
    "        return z,y\n",
    "\n",
    "    def backpropagation(self, X, target, eta):\n",
    "        z, y = self.forward(X)\n",
    "        d2 = (z - target)\n",
    "        d1 = y*(1.0-y) * np.matmul(d2, self._W2.T)\n",
    "        # The updates are done within this method. This more or less implies\n",
    "        # utpdates with Stochastic Gradient Decent. Let's fix that later.\n",
    "        # TODO: Support for full batch and mini-batches etc.\n",
    "        self._W2 -= eta * np.matmul(y.T,d2)\n",
    "        self._W1 -= eta * np.matmul(X.reshape((-1,1)),d1)\n",
    "        self._b2 -= eta * d2\n",
    "        self._b1 -= eta * d1"
   ]
  },
  {
   "cell_type": "code",
   "execution_count": 10,
   "metadata": {
    "collapsed": true
   },
   "outputs": [],
   "source": [
    "num_hidden = 8\n",
    "n_epochs   = 2000\n",
    "eta        = 0.01\n",
    "# Create the net.\n",
    "nn = neuralnet( X_train.shape[1], num_hidden, y_train.shape[1])"
   ]
  },
  {
   "cell_type": "code",
   "execution_count": 11,
   "metadata": {
    "collapsed": true
   },
   "outputs": [],
   "source": [
    "X = np.array(X_train, dtype=np.float32)\n",
    "Y = np.array(y_train, dtype=np.float32)\n",
    "for epoch in range(n_epochs):\n",
    "    for monster, target in zip(X,Y):\n",
    "        nn.backpropagation( monster, target, eta)"
   ]
  },
  {
   "cell_type": "code",
   "execution_count": 12,
   "metadata": {
    "collapsed": true
   },
   "outputs": [],
   "source": [
    "with open('submission-{}-hidden.csv'.format(num_hidden), 'w') as f:\n",
    "    f.write(\"id,type\\n\")\n",
    "    for index, monster in X_test.iterrows():\n",
    "        probs = nn.forward( np.array(monster, dtype=np.float32))[0]\n",
    "        f.write(\"{},{}\\n\".format(index, y_train.columns.values[np.argmax(probs)][1:]))"
   ]
  },
  {
   "cell_type": "code",
   "execution_count": null,
   "metadata": {
    "collapsed": true
   },
   "outputs": [],
   "source": []
  }
 ],
 "metadata": {
  "kernelspec": {
   "display_name": "Python 2",
   "language": "python",
   "name": "python2"
  },
  "language_info": {
   "codemirror_mode": {
    "name": "ipython",
    "version": 2
   },
   "file_extension": ".py",
   "mimetype": "text/x-python",
   "name": "python",
   "nbconvert_exporter": "python",
   "pygments_lexer": "ipython2",
   "version": "2.7.12"
  }
 },
 "nbformat": 4,
 "nbformat_minor": 0
}
