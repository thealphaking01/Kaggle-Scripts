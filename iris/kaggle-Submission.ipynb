{
 "cells": [
  {
   "cell_type": "code",
   "execution_count": 1,
   "metadata": {
    "collapsed": true
   },
   "outputs": [],
   "source": [
    "import numpy as np # linear algebra\n",
    "import pandas as pd \n",
    "df = pd.read_csv(\"Iris.csv\")"
   ]
  },
  {
   "cell_type": "code",
   "execution_count": 2,
   "metadata": {
    "collapsed": false
   },
   "outputs": [
    {
     "name": "stdout",
     "output_type": "stream",
     "text": [
      "   Id  SepalLengthCm  SepalWidthCm  PetalLengthCm  PetalWidthCm      Species\n",
      "0   1            5.1           3.5            1.4           0.2  Iris-setosa\n",
      "1   2            4.9           3.0            1.4           0.2  Iris-setosa\n",
      "2   3            4.7           3.2            1.3           0.2  Iris-setosa\n",
      "3   4            4.6           3.1            1.5           0.2  Iris-setosa\n",
      "4   5            5.0           3.6            1.4           0.2  Iris-setosa\n",
      "               Id  SepalLengthCm  SepalWidthCm  PetalLengthCm  PetalWidthCm  \\\n",
      "count  150.000000     150.000000    150.000000     150.000000    150.000000   \n",
      "mean    75.500000       5.843333      3.054000       3.758667      1.198667   \n",
      "std     43.445368       0.828066      0.433594       1.764420      0.763161   \n",
      "min      1.000000       4.300000      2.000000       1.000000      0.100000   \n",
      "25%     38.250000       5.100000      2.800000       1.600000      0.300000   \n",
      "50%     75.500000       5.800000      3.000000       4.350000      1.300000   \n",
      "75%    112.750000       6.400000      3.300000       5.100000      1.800000   \n",
      "max    150.000000       7.900000      4.400000       6.900000      2.500000   \n",
      "\n",
      "         category  \n",
      "count  150.000000  \n",
      "mean     1.000000  \n",
      "std      0.819232  \n",
      "min      0.000000  \n",
      "25%      0.000000  \n",
      "50%      1.000000  \n",
      "75%      2.000000  \n",
      "max      2.000000  \n"
     ]
    }
   ],
   "source": [
    "print (df.head())\n",
    "clas = []\n",
    "for i in range(len(df[\"Species\"])):\n",
    "    if df[\"Species\"][i] == \"Iris-setosa\":\n",
    "        clas.append(0)\n",
    "    elif df[\"Species\"][i] == \"Iris-versicolor\":\n",
    "        clas.append(1)\n",
    "    else: clas.append(2)\n",
    "df[\"category\"]=clas\n",
    "print (df.describe())"
   ]
  },
  {
   "cell_type": "code",
   "execution_count": 13,
   "metadata": {
    "collapsed": false
   },
   "outputs": [
    {
     "name": "stdout",
     "output_type": "stream",
     "text": [
      "Mismatched cases: \n",
      "Predicted Value vs Actual Value\n",
      "(2, 1)\n",
      "(2, 1)\n",
      "(2, 1)\n",
      "(2, 1)\n",
      "(2, 1)\n",
      "(1, 2)\n",
      "Accuracy of Logistic Regression:\n",
      "0.96\n",
      "Mismatched cases: \n",
      "Predicted Value vs Actual Value\n",
      "(2, 1)\n",
      "(2, 1)\n",
      "(2, 1)\n",
      "(1, 2)\n",
      "(1, 2)\n",
      "(1, 2)\n",
      "Accuracy of Logistic Regression:\n",
      "0.96\n"
     ]
    }
   ],
   "source": [
    "#trying a simple logistic regression approach\n",
    "predictors = [\"SepalLengthCm\", \"SepalWidthCm\", \"PetalLengthCm\", \"PetalWidthCm\"]\n",
    "from sklearn.linear_model import LogisticRegression\n",
    "alg = LogisticRegression(random_state=1)\n",
    "alg.fit(df[predictors], df[\"category\"])\n",
    "predictions =  alg.predict(df[predictors])\n",
    "tot = 0\n",
    "print (\"Mismatched cases: \")\n",
    "print (\"Predicted Value vs Actual Value\")\n",
    "for i in range(len(predictions)):\n",
    "    if predictions[i]==df[\"category\"][i]: tot+=1\n",
    "    else:\n",
    "        print (predictions[i], df[\"category\"][i])\n",
    "tot = tot*1.0/len(predictions)\n",
    "print (\"Accuracy of Logistic Regression:\")\n",
    "print (tot)\n",
    "#trying with adding a new feature\n",
    "df[\"petalArea\"] = df[\"PetalLengthCm\"]*df[\"PetalWidthCm\"]\n",
    "predictors.append(\"petalArea\")\n",
    "alg.fit(df[predictors], df[\"category\"])\n",
    "predictions =  alg.predict(df[predictors])\n",
    "tot = 0\n",
    "print (\"Mismatched cases: \")\n",
    "print (\"Predicted Value vs Actual Value\")\n",
    "for i in range(len(predictions)):\n",
    "    if predictions[i]==df[\"category\"][i]: tot+=1\n",
    "    else:\n",
    "        print (predictions[i], df[\"category\"][i])\n",
    "tot = tot*1.0/len(predictions)\n",
    "print (\"Accuracy of Logistic Regression:\")\n",
    "print (tot)"
   ]
  },
  {
   "cell_type": "code",
   "execution_count": 30,
   "metadata": {
    "collapsed": false
   },
   "outputs": [
    {
     "name": "stdout",
     "output_type": "stream",
     "text": [
      "[0, 0, 0, 0, 0, 0, 0, 0, 0, 0, 0, 0, 0, 0, 0, 0, 0, 0, 0, 0, 0, 0, 0, 0, 0, 0, 0, 0, 0, 0, 0, 0, 0, 0, 0, 0, 0, 0, 0, 0, 0, 0, 0, 0, 0, 0, 0, 0, 0, 0, 1, 1, 1, 1, 1, 1, 1, 1, 1, 1, 1, 1, 1, 1, 1, 1, 1, 1, 1, 1, 1, 1, 1, 1, 1, 1, 1, 1, 1, 1, 1, 1, 1, 1, 1, 1, 1, 1, 1, 1, 1, 1, 1, 1, 1, 1, 1, 1, 1, 1, 2, 2, 2, 2, 2, 2, 1, 2, 2, 2, 2, 2, 2, 2, 2, 2, 2, 2, 2, 1, 2, 2, 2, 1, 2, 2, 1, 1, 2, 2, 2, 2, 2, 1, 1, 2, 2, 2, 1, 2, 2, 2, 2, 2, 2, 2, 2, 2, 2, 2]\n",
      "(1, 2)\n",
      "(1, 2)\n",
      "(1, 2)\n",
      "(1, 2)\n",
      "(1, 2)\n",
      "(1, 2)\n",
      "(1, 2)\n",
      "(1, 2)\n",
      "Accuracy of K means:\n",
      "0.946666666667\n"
     ]
    }
   ],
   "source": [
    "#trying out k means algorithm using k=3\n",
    "from random import randint\n",
    "from sklearn import cluster, datasets\n",
    "k_means = cluster.KMeans(n_clusters=3)\n",
    "k_means.fit(df[predictors])\n",
    "tot=0\n",
    "temp = k_means.labels_\n",
    "t2 = []\n",
    "for i in temp:\n",
    "    if i==temp[0]:\n",
    "        t2.append(0)\n",
    "    elif i==temp[55]:\n",
    "        t2.append(1)\n",
    "    else: t2.append(2)\n",
    "tot=0\n",
    "# print df[\"category\"]\n",
    "print t2\n",
    "for i in range(len(temp)):\n",
    "    if t2[i]==df[\"category\"][i]: tot+=1\n",
    "    else:\n",
    "        print (t2[i], df[\"category\"][i])\n",
    "tot = tot*1.0/len(predictions)\n",
    "print (\"Accuracy of K means:\")\n",
    "print (tot)"
   ]
  },
  {
   "cell_type": "code",
   "execution_count": 34,
   "metadata": {
    "collapsed": false
   },
   "outputs": [
    {
     "name": "stdout",
     "output_type": "stream",
     "text": [
      "0.967320261438\n"
     ]
    }
   ],
   "source": [
    "#using random forests\n",
    "from sklearn.cross_validation import KFold\n",
    "from sklearn.ensemble import RandomForestClassifier\n",
    "alg = RandomForestClassifier(random_state=1, n_estimators=150, min_samples_split=2, min_samples_leaf=2)\n",
    "scores = cross_validation.cross_val_score(alg,df[predictors], df[\"category\"], cv=3)\n",
    "print (scores.mean())\n",
    "print \"Random forests works better than k means or logistic regression\""
   ]
  }
 ],
 "metadata": {
  "kernelspec": {
   "display_name": "Python 2",
   "language": "python",
   "name": "python2"
  },
  "language_info": {
   "codemirror_mode": {
    "name": "ipython",
    "version": 2
   },
   "file_extension": ".py",
   "mimetype": "text/x-python",
   "name": "python",
   "nbconvert_exporter": "python",
   "pygments_lexer": "ipython2",
   "version": "2.7.12"
  },
  "widgets": {
   "state": {},
   "version": "1.1.2"
  }
 },
 "nbformat": 4,
 "nbformat_minor": 0
}
